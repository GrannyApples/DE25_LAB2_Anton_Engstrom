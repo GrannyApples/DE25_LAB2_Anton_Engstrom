{
 "cells": [
  {
   "cell_type": "code",
   "execution_count": null,
   "id": "76c46f7f",
   "metadata": {},
   "outputs": [],
   "source": [
    "from circle import Circle"
   ]
  }
 ],
 "metadata": {
  "kernelspec": {
   "display_name": ".venv (3.12.10)",
   "language": "python",
   "name": "python3"
  },
  "language_info": {
   "name": "python",
   "version": "3.12.10"
  }
 },
 "nbformat": 4,
 "nbformat_minor": 5
}
