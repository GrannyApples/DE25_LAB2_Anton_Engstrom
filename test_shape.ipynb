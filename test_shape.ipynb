{
 "cells": [
  {
   "cell_type": "code",
   "execution_count": 9,
   "id": "0c2a0371",
   "metadata": {},
   "outputs": [
    {
     "name": "stdout",
     "output_type": "stream",
     "text": [
      "3.0 4.0\n"
     ]
    }
   ],
   "source": [
    "from shape import Shape\n",
    "from circle import Circle\n",
    "from rectangle import Rectangle\n",
    "\n",
    "s1= Shape(3,4)\n",
    "print(s1.x,s1.y)\n"
   ]
  },
  {
   "cell_type": "code",
   "execution_count": 10,
   "id": "63a5153c",
   "metadata": {},
   "outputs": [
    {
     "name": "stdout",
     "output_type": "stream",
     "text": [
      "X and Y must be numbers\n"
     ]
    }
   ],
   "source": [
    "try:\n",
    "    s2=Shape(\"three\",4)\n",
    "    print(s2.x,s2.y)\n",
    "except TypeError as e:\n",
    "    print(e)"
   ]
  },
  {
   "cell_type": "code",
   "execution_count": 11,
   "id": "b7964fbc",
   "metadata": {},
   "outputs": [
    {
     "name": "stdout",
     "output_type": "stream",
     "text": [
      "A Shape centered at (1.0, 2.0)\n",
      "Shape(x=1.0, y=2.0)\n"
     ]
    }
   ],
   "source": [
    "\n",
    "s = Shape(1, 2)\n",
    "print(s)\n",
    "print(repr(s))\n"
   ]
  },
  {
   "cell_type": "code",
   "execution_count": 12,
   "id": "be8db553",
   "metadata": {},
   "outputs": [
    {
     "name": "stdout",
     "output_type": "stream",
     "text": [
      "2.0 3.0\n",
      "should be 3,4(3.0, 4.0)\n"
     ]
    }
   ],
   "source": [
    "s2 = Shape(0, 0)\n",
    "s2.translate(2, 3)\n",
    "print(s2.x, s2.y)\n",
    "\n",
    "s1 = Shape(1, 1)\n",
    "s1.translate(2, 3)\n",
    "print(f\"should be 3,4{s1.x, s1.y}\")"
   ]
  },
  {
   "cell_type": "code",
   "execution_count": 13,
   "id": "0c594bbb",
   "metadata": {},
   "outputs": [
    {
     "name": "stdout",
     "output_type": "stream",
     "text": [
      "A Shape centered at (0.0, 0.0)\n",
      "A Shape centered at (2.0, 3.0)\n",
      "True\n",
      "True\n",
      "True\n",
      "Should be false.\n",
      "not equal returns false, error:'str' object has no attribute 'area'\n",
      "False\n",
      "False\n",
      "False\n",
      "False\n"
     ]
    }
   ],
   "source": [
    "c1 = Circle(0,0,1)\n",
    "print(c1)\n",
    "\n",
    "c1.translate(2,3)\n",
    "print(c1)\n",
    "\n",
    "#should be true\n",
    "c2 = Circle(0,0,1)\n",
    "print(c1==c2)\n",
    "print(c1<=c2)\n",
    "print(c1>=c2)\n",
    "\n",
    "c3=Circle(0,0,1)\n",
    "c4=Circle(0,0,5)\n",
    "#Should be false with the type error exception if hit.\n",
    "print(\"Should be false.\")\n",
    "print(c2 == \"hejsan\")\n",
    "print(c3==c4)\n",
    "print(c3>c4)\n",
    "print(c4<c3)"
   ]
  }
 ],
 "metadata": {
  "kernelspec": {
   "display_name": ".venv (3.12.10)",
   "language": "python",
   "name": "python3"
  },
  "language_info": {
   "codemirror_mode": {
    "name": "ipython",
    "version": 3
   },
   "file_extension": ".py",
   "mimetype": "text/x-python",
   "name": "python",
   "nbconvert_exporter": "python",
   "pygments_lexer": "ipython3",
   "version": "3.12.10"
  }
 },
 "nbformat": 4,
 "nbformat_minor": 5
}
