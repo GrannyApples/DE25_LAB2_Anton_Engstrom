{
 "cells": [
  {
   "cell_type": "code",
   "execution_count": null,
   "id": "0c2a0371",
   "metadata": {},
   "outputs": [
    {
     "name": "stdout",
     "output_type": "stream",
     "text": [
      "3.0 4.0\n"
     ]
    }
   ],
   "source": [
    "from shape import Shape\n",
    "\n",
    "s1= Shape(3,4)\n",
    "print(s1.x,s1.y)\n"
   ]
  },
  {
   "cell_type": "code",
   "execution_count": 3,
   "id": "63a5153c",
   "metadata": {},
   "outputs": [
    {
     "name": "stdout",
     "output_type": "stream",
     "text": [
      "X and Y must be numbers\n"
     ]
    }
   ],
   "source": [
    "try:\n",
    "    s2=Shape(\"three\",4)\n",
    "    print(s2.x,s2.y)\n",
    "except TypeError as e:\n",
    "    print(e)"
   ]
  },
  {
   "cell_type": "code",
   "execution_count": 4,
   "id": "b7964fbc",
   "metadata": {},
   "outputs": [
    {
     "name": "stdout",
     "output_type": "stream",
     "text": [
      "A Shape centered at (1.0, 2.0)\n",
      "Shape(x=1.0, y=2.0)\n"
     ]
    }
   ],
   "source": [
    "\n",
    "s = Shape(1, 2)\n",
    "print(s)\n",
    "print(repr(s))\n"
   ]
  }
 ],
 "metadata": {
  "kernelspec": {
   "display_name": ".venv (3.12.10)",
   "language": "python",
   "name": "python3"
  },
  "language_info": {
   "codemirror_mode": {
    "name": "ipython",
    "version": 3
   },
   "file_extension": ".py",
   "mimetype": "text/x-python",
   "name": "python",
   "nbconvert_exporter": "python",
   "pygments_lexer": "ipython3",
   "version": "3.12.10"
  }
 },
 "nbformat": 4,
 "nbformat_minor": 5
}
